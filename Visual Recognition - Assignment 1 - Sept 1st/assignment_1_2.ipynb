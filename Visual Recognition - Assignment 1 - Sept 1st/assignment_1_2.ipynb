{
 "cells": [
  {
   "cell_type": "markdown",
   "metadata": {},
   "source": [
    "## Creating Custom Networks\n",
    "In this notebook you have to create a custom network whose architecture has been given, and use the dataset you created earlier to train and test it."
   ]
  },
  {
   "cell_type": "code",
   "execution_count": 1,
   "metadata": {
    "collapsed": true
   },
   "outputs": [],
   "source": [
    "# Import Statements\n",
    "#\n",
    "# Several of the imports you will need have been added but you will need to provide the\n",
    "# rest yourself; you should be able to figure out most of the imports as you go through\n",
    "# the notebook since without proper imports your code will fail to run\n",
    "#\n",
    "# All import statements go in this block\n",
    "\n",
    "from __future__ import division, print_function, unicode_literals\n",
    "import numpy as np\n",
    "import torch\n",
    "import torch.nn as nn\n",
    "import torch.utils.data\n",
    "import torchvision.transforms as transforms\n",
    "import os\n",
    "from skimage import io, transform\n",
    "from torch.autograd import Variable\n",
    "%matplotlib inline\n",
    "import matplotlib.pyplot as plt\n",
    "import time"
   ]
  },
  {
   "cell_type": "markdown",
   "metadata": {},
   "source": [
    "All hyper parameters go in the next block"
   ]
  },
  {
   "cell_type": "code",
   "execution_count": 2,
   "metadata": {
    "collapsed": true
   },
   "outputs": [],
   "source": [
    "batch_size = 100\n",
    "num_epochs = 30\n",
    "learning_rate = 0.01"
   ]
  },
  {
   "cell_type": "markdown",
   "metadata": {},
   "source": [
    "### Create Custom Dataset and Loader\n",
    "This is the same as part 1. Simply use the same code to create the dataset."
   ]
  },
  {
   "cell_type": "code",
   "execution_count": 3,
   "metadata": {
    "collapsed": true
   },
   "outputs": [],
   "source": [
    "class CDATA(torch.utils.data.Dataset): \n",
    "    def __init__(self, root_dir, train, transform=None):\n",
    "        self.root_dir = root_dir\n",
    "        self.transform = transform\n",
    "        self.train = train\n",
    "        \n",
    "        if(self.train):\n",
    "            data_dir = os.path.join(self.root_dir, 'train')\n",
    "        else:\n",
    "            data_dir = os.path.join(self.root_dir, 'test')\n",
    "\n",
    "        self.mlist = list()\n",
    "        \n",
    "        for root, dirs, files in os.walk(data_dir):\n",
    "            path = root.split(os.sep)\n",
    "            lab = os.path.basename(root)\n",
    "            for file in files:\n",
    "                self.mlist.append(file +'LAB'+ str(ord(lab) - ord('A')))\n",
    "\n",
    "    def __len__(self):\n",
    "        return len(self.mlist)\n",
    "        \n",
    "    def __getitem__(self, idx):\n",
    "        name = self.mlist[idx]\n",
    "        file = name[:-4]\n",
    "        label = int(name[-1])\n",
    "        \n",
    "        if(self.train):\n",
    "            data_dir = os.path.join(self.root_dir, 'train')\n",
    "        else:\n",
    "            data_dir = os.path.join(self.root_dir, 'test')\n",
    "        \n",
    "        img_name = os.path.join(data_dir , chr(ord('A') + label), file)\n",
    "        image = io.imread(img_name,as_grey = False)\n",
    "        image = np.repeat(image[:, :,np.newaxis], 3, axis=2)\n",
    "        to_pil = transforms.ToPILImage()\n",
    "        image = to_pil(image)\n",
    "        \n",
    "        if self.transform:\n",
    "            image = self.transform(image)\n",
    "        return (image,label)\n",
    "    \n",
    "composed_transform = transforms.Compose([transforms.Scale((32,32)),transforms.ToTensor()])\n",
    "train_dataset = CDATA(root_dir='./../notMNIST_small', train=True, transform=composed_transform) # Supply proper root_dir\n",
    "test_dataset = CDATA(root_dir='./../notMNIST_small', train=False, transform=composed_transform) # Supply proper root_dir\n",
    "\n",
    "train_loader = torch.utils.data.DataLoader(dataset=train_dataset, batch_size=batch_size, shuffle=True)\n",
    "test_loader = torch.utils.data.DataLoader(dataset=test_dataset, batch_size=batch_size, shuffle=False)"
   ]
  },
  {
   "cell_type": "markdown",
   "metadata": {},
   "source": [
    "### Creating a Custom Network\n",
    "It's time to create a new custom network. This network is based on Resnet (indeed it is a resnet since it uses skip connections). The architecture of the network is provided in the diagram. It specifies the layer names, layer types as well as their parameters.\n",
    "<img src=\"architecture.png\" width=100>\n",
    "[Full size image](architecture.html)"
   ]
  },
  {
   "cell_type": "code",
   "execution_count": 4,
   "metadata": {
    "collapsed": true
   },
   "outputs": [],
   "source": [
    "class CustomResnet(nn.Module): # Extend PyTorch's Module class\n",
    "    def __init__(self, num_classes = 10):\n",
    "        super(CustomResnet, self).__init__() # Must call super __init__()\n",
    "        \n",
    "        # Define the layers of the network here\n",
    "        # There should be 17 total layers as evident from the diagram\n",
    "        # The parameters and names for the layers are provided in the diagram\n",
    "        # The variable names have to be the same as the ones in the diagram\n",
    "        # Otherwise, the weights will not load\n",
    "        \n",
    "        self.conv1 = nn.Conv2d(3, 64, 7, stride = 2 , padding = 3 , bias = True)\n",
    "        self.bn1 = nn.BatchNorm2d(64)\n",
    "        self.relu = nn.ReLU(inplace= True)\n",
    "        self.maxpool = nn.MaxPool2d(3, stride=2, padding=1)\n",
    "        self.lyr1conv1 = nn.Conv2d(64, 64, 3, stride = 1 , padding = 1 , bias = True)\n",
    "        self.lyr1bn1 = nn.BatchNorm2d(64)\n",
    "        self.lyr1relu1 = nn.ReLU(inplace= True)\n",
    "        self.lyr1conv2 = nn.Conv2d(64, 64, 3, stride = 1 , padding = 1 , bias = True)\n",
    "        self.lyr1bn2 = nn.BatchNorm2d(64)\n",
    "        self.lyr1relu2 = nn.ReLU(inplace= True)\n",
    "        self.lyr2conv1 = nn.Conv2d(64, 64, 3, stride = 1 , padding = 1 , bias = True)\n",
    "        self.lyr2bn1 = nn.BatchNorm2d(64)\n",
    "        self.lyr2relu1 = nn.ReLU(inplace= True)\n",
    "        self.lyr2conv2 = nn.Conv2d(64, 64, 3, stride = 1 , padding = 1 , bias = True)\n",
    "        self.lyr2bn2 = nn.BatchNorm2d(64)\n",
    "        self.lyr2relu2 = nn.ReLU(inplace= True)\n",
    "        self.fc = nn.Linear(4096, num_classes)\n",
    "        \n",
    "    def forward(self, x):\n",
    "        # Here you have to define the forward pass\n",
    "        # Make sure you take care of the skip connections\n",
    "        x = self.conv1(x)\n",
    "        x = self.maxpool(self.relu(self.bn1(x)))\n",
    "        xbranch = self.lyr1relu1(self.lyr1bn1(self.lyr1conv1(x)))\n",
    "        xbranch = self.lyr1bn2(self.lyr1conv2(x))\n",
    "        x = self.lyr1relu2(x + xbranch)\n",
    "        xbranch = self.lyr2relu1(self.lyr2bn1(self.lyr2conv1(x)))\n",
    "        xbranch = self.lyr2bn2(self.lyr2conv2(x))\n",
    "        x = self.lyr2relu2(x + xbranch)\n",
    "        x = x.view(-1,4096)\n",
    "        return self.fc(x)"
   ]
  },
  {
   "cell_type": "markdown",
   "metadata": {},
   "source": [
    "#### Finetune on pre-trained CIFAR-100 weights\n",
    "We shall now finetune our model using pretrained CIFAR-100 weights."
   ]
  },
  {
   "cell_type": "code",
   "execution_count": 5,
   "metadata": {
    "collapsed": true
   },
   "outputs": [],
   "source": [
    "model = CustomResnet(num_classes = 100) # 100 classes since CIFAR-100 has 100 classes\n",
    "\n",
    "# Load CIFAR-100 weights. (Download them from assignment page)\n",
    "# If network was properly implemented, weights should load without any problems\n",
    "model.load_state_dict(torch.load('CIFAR-100_weights')) # Supply the path to the weight file"
   ]
  },
  {
   "cell_type": "code",
   "execution_count": 6,
   "metadata": {
    "collapsed": true
   },
   "outputs": [],
   "source": [
    "# Change last layer to output 10 classes since our dataset has 10 classes\n",
    "# Complete this statement. It is similar to the resnet18 case\n",
    "model.fc = nn.Linear(model.fc.in_features, 10)\n",
    "\n",
    "# Loss function and optimizers\n",
    "criterion = nn.CrossEntropyLoss()# Define cross-entropy loss\n",
    "optimizer =  torch.optim.Adam(model.parameters(), lr = learning_rate)# Use Adam optimizer, use learning_rate hyper parameter\n",
    "if(torch.cuda.is_available()):\n",
    "    model.cuda()\n"
   ]
  },
  {
   "cell_type": "markdown",
   "metadata": {},
   "source": [
    "Let's finetune the model."
   ]
  },
  {
   "cell_type": "code",
   "execution_count": 7,
   "metadata": {
    "collapsed": true
   },
   "outputs": [],
   "source": [
    "def train(num_epochs):\n",
    "    stats = {'epoch_loss':list(),'trainacc':list(),'testacc':list()}\n",
    "    \n",
    "    for epoch in range(num_epochs):\n",
    "        start = time.time()\n",
    "        running_loss = 0\n",
    "        for i, data in enumerate(train_loader):\n",
    "            inputs, labels = data\n",
    "            if(torch.cuda.is_available()):\n",
    "                inputs, labels = Variable(inputs.cuda()), Variable(labels.cuda())\n",
    "            else:\n",
    "                inputs, labels = Variable(inputs), Variable(labels)\n",
    "           \n",
    "            optimizer.zero_grad()\n",
    "            outputs = model(inputs)\n",
    "            loss = criterion(outputs, labels)\n",
    "            loss.backward()\n",
    "            optimizer.step()\n",
    "            running_loss += loss.data[0]\n",
    "\n",
    "        end = time.time()\n",
    "       \n",
    "        print('Epoch #',epoch,'Loss per batch: ',round(running_loss/len(train_loader),2),'Time in this epoch: ',round(end-start,2))\n",
    "        \n",
    "        stats['epoch_loss'].append(round(running_loss/len(train_loader),2))\n",
    "        \n",
    "        start = time.time()\n",
    "        \n",
    "        print('Test')\n",
    "        stats['testacc'].append(test(model, False))\n",
    "        \n",
    "        print('Training')\n",
    "        stats['trainacc'].append(test(model, True))\n",
    "    \n",
    "    print('Finished Training')\n",
    "    return stats\n",
    "\n",
    "def test(model,training):\n",
    "    # Write loops for testing the model on the test set\n",
    "    # You should also print out the accuracy of the model\n",
    "    tot = right = 0\n",
    "    if(training == False):\n",
    "        x = test_loader\n",
    "    else:\n",
    "        x = train_loader\n",
    "    for data in x:\n",
    "        images, labels = data\n",
    "        images, labels = images.cuda(),labels.cuda()\n",
    "        images, labels = Variable(images, volatile = True), Variable(labels)\n",
    "        outputs = model(images)\n",
    "        q , predicted = torch.max(outputs.data, 1)\n",
    "\n",
    "        predicted = predicted.cpu()\n",
    "        labels = labels.data.cpu()\n",
    "        right += (predicted == labels).sum()\n",
    "        tot += labels.size(0)\n",
    "    print('Accuracy :', 100*right/tot)\n",
    "    return right/tot"
   ]
  },
  {
   "cell_type": "code",
   "execution_count": 8,
   "metadata": {
    "scrolled": true
   },
   "outputs": [
    {
     "name": "stdout",
     "output_type": "stream",
     "text": [
      "Epoch # 0 Loss per batch:  4.47 Time in this epoch:  11.94\n",
      "Test\n",
      "Accuracy : 83.9572192513369\n",
      "Training\n",
      "Accuracy : 90.7381037142518\n",
      "Epoch # 1 Loss per batch:  0.39 Time in this epoch:  10.88\n",
      "Test\n",
      "Accuracy : 85.88235294117646\n",
      "Training\n",
      "Accuracy : 92.96309481428742\n",
      "Epoch # 2 Loss per batch:  0.26 Time in this epoch:  10.75\n",
      "Test\n",
      "Accuracy : 90.0\n",
      "Training\n",
      "Accuracy : 94.08449032870536\n",
      "Epoch # 3 Loss per batch:  0.22 Time in this epoch:  10.87\n",
      "Test\n",
      "Accuracy : 89.78609625668449\n",
      "Training\n",
      "Accuracy : 94.39302242791028\n",
      "Epoch # 4 Loss per batch:  0.18 Time in this epoch:  10.83\n",
      "Test\n",
      "Accuracy : 90.32085561497327\n",
      "Training\n",
      "Accuracy : 95.52035125192833\n",
      "Epoch # 5 Loss per batch:  0.15 Time in this epoch:  10.93\n",
      "Test\n",
      "Accuracy : 90.21390374331551\n",
      "Training\n",
      "Accuracy : 95.57968434792927\n",
      "Epoch # 6 Loss per batch:  0.13 Time in this epoch:  10.89\n",
      "Test\n",
      "Accuracy : 91.01604278074866\n",
      "Training\n",
      "Accuracy : 96.46374747834342\n",
      "Epoch # 7 Loss per batch:  0.12 Time in this epoch:  11.04\n",
      "Test\n",
      "Accuracy : 91.76470588235294\n",
      "Training\n",
      "Accuracy : 97.49614334875994\n",
      "Epoch # 8 Loss per batch:  0.1 Time in this epoch:  10.97\n",
      "Test\n",
      "Accuracy : 92.40641711229947\n",
      "Training\n",
      "Accuracy : 97.46054349115937\n",
      "Epoch # 9 Loss per batch:  0.1 Time in this epoch:  10.77\n",
      "Test\n",
      "Accuracy : 91.65775401069519\n",
      "Training\n",
      "Accuracy : 97.75127566156402\n",
      "Epoch # 10 Loss per batch:  0.08 Time in this epoch:  10.82\n",
      "Test\n",
      "Accuracy : 91.65775401069519\n",
      "Training\n",
      "Accuracy : 98.21407381037143\n",
      "Epoch # 11 Loss per batch:  0.07 Time in this epoch:  10.89\n",
      "Test\n",
      "Accuracy : 92.03208556149733\n",
      "Training\n",
      "Accuracy : 98.57007238637712\n",
      "Epoch # 12 Loss per batch:  0.07 Time in this epoch:  10.96\n",
      "Test\n",
      "Accuracy : 92.19251336898395\n",
      "Training\n",
      "Accuracy : 98.77773822238045\n",
      "Epoch # 13 Loss per batch:  0.06 Time in this epoch:  10.92\n",
      "Test\n",
      "Accuracy : 92.29946524064171\n",
      "Training\n",
      "Accuracy : 98.78960484158064\n",
      "Epoch # 14 Loss per batch:  0.06 Time in this epoch:  10.77\n",
      "Test\n",
      "Accuracy : 92.3529411764706\n",
      "Training\n",
      "Accuracy : 98.81333807998101\n",
      "Epoch # 15 Loss per batch:  0.05 Time in this epoch:  10.93\n",
      "Test\n",
      "Accuracy : 92.03208556149733\n",
      "Training\n",
      "Accuracy : 98.937937581583\n",
      "Epoch # 16 Loss per batch:  0.05 Time in this epoch:  10.85\n",
      "Test\n",
      "Accuracy : 91.71122994652407\n",
      "Training\n",
      "Accuracy : 98.90827103358254\n",
      "Epoch # 17 Loss per batch:  0.04 Time in this epoch:  10.78\n",
      "Test\n",
      "Accuracy : 92.19251336898395\n",
      "Training\n",
      "Accuracy : 99.21086982318738\n",
      "Epoch # 18 Loss per batch:  0.05 Time in this epoch:  10.75\n",
      "Test\n",
      "Accuracy : 91.44385026737967\n",
      "Training\n",
      "Accuracy : 98.79553815118072\n",
      "Epoch # 19 Loss per batch:  0.05 Time in this epoch:  10.94\n",
      "Test\n",
      "Accuracy : 92.13903743315508\n",
      "Training\n",
      "Accuracy : 98.92607096238282\n",
      "Epoch # 20 Loss per batch:  0.04 Time in this epoch:  10.83\n",
      "Test\n",
      "Accuracy : 92.29946524064171\n",
      "Training\n",
      "Accuracy : 99.35326925358966\n",
      "Epoch # 21 Loss per batch:  0.04 Time in this epoch:  10.82\n",
      "Test\n",
      "Accuracy : 91.76470588235294\n",
      "Training\n",
      "Accuracy : 99.24053637118784\n",
      "Epoch # 22 Loss per batch:  0.04 Time in this epoch:  10.75\n",
      "Test\n",
      "Accuracy : 91.71122994652407\n",
      "Training\n",
      "Accuracy : 99.03880384478462\n",
      "Epoch # 23 Loss per batch:  0.04 Time in this epoch:  10.66\n",
      "Test\n",
      "Accuracy : 90.16042780748663\n",
      "Training\n",
      "Accuracy : 99.0684703927851\n",
      "Epoch # 24 Loss per batch:  0.05 Time in this epoch:  10.72\n",
      "Test\n",
      "Accuracy : 90.96256684491979\n",
      "Training\n",
      "Accuracy : 99.1812032751869\n",
      "Epoch # 25 Loss per batch:  0.04 Time in this epoch:  10.61\n",
      "Test\n",
      "Accuracy : 92.0855614973262\n",
      "Training\n",
      "Accuracy : 99.57873501839326\n",
      "Epoch # 26 Loss per batch:  0.03 Time in this epoch:  10.68\n",
      "Test\n",
      "Accuracy : 91.81818181818181\n",
      "Training\n",
      "Accuracy : 99.08627032158537\n",
      "Epoch # 27 Loss per batch:  0.04 Time in this epoch:  10.61\n",
      "Test\n",
      "Accuracy : 91.44385026737967\n",
      "Training\n",
      "Accuracy : 99.25240299038803\n",
      "Epoch # 28 Loss per batch:  0.05 Time in this epoch:  10.65\n",
      "Test\n",
      "Accuracy : 92.24598930481284\n",
      "Training\n",
      "Accuracy : 99.26426960958823\n",
      "Epoch # 29 Loss per batch:  0.03 Time in this epoch:  10.62\n",
      "Test\n",
      "Accuracy : 91.49732620320856\n",
      "Training\n",
      "Accuracy : 99.062537083185\n",
      "Finished Training\n",
      "CPU times: user 10min 36s, sys: 18.4 s, total: 10min 54s\n",
      "Wall time: 10min 55s\n"
     ]
    }
   ],
   "source": [
    "%time stats = train(num_epochs)"
   ]
  },
  {
   "cell_type": "markdown",
   "metadata": {},
   "source": [
    "Test the finetuned model"
   ]
  },
  {
   "cell_type": "code",
   "execution_count": 10,
   "metadata": {},
   "outputs": [
    {
     "name": "stdout",
     "output_type": "stream",
     "text": [
      "Plot for Epoch Loss\n"
     ]
    },
    {
     "data": {
      "image/png": "[encoded data removed]",
      "text/plain": [
       "<matplotlib.figure.Figure at 0x7fb8505b1128>"
      ]
     },
     "metadata": {},
     "output_type": "display_data"
    },
    {
     "name": "stdout",
     "output_type": "stream",
     "text": [
      "Plot for training and testing accuracy\n"
     ]
    },
    {
     "data": {
      "image/png": "[encoded data removed]",
      "text/plain": [
       "<matplotlib.figure.Figure at 0x7fb8483f4e80>"
      ]
     },
     "metadata": {},
     "output_type": "display_data"
    }
   ],
   "source": [
    "print('Plot for Epoch Loss')\n",
    "plt.plot(stats['epoch_loss'][1:]) #To ignore the abnormal improvement in 1s epoch for a clear graph.\n",
    "plt.show()\n",
    "print('Plot for training and testing accuracy')\n",
    "plt.plot(stats['trainacc'])\n",
    "plt.plot(stats['testacc'])\n",
    "plt.show()"
   ]
  },
  {
   "cell_type": "code",
   "execution_count": 14,
   "metadata": {},
   "outputs": [
    {
     "name": "stdout",
     "output_type": "stream",
     "text": [
      "0.9240641711229947\n"
     ]
    },
    {
     "data": {
      "text/plain": [
       "8"
      ]
     },
     "execution_count": 14,
     "metadata": {},
     "output_type": "execute_result"
    }
   ],
   "source": [
    "print(max(stats['testacc']))\n",
    "np.argmax(stats['testacc'])"
   ]
  },
  {
   "cell_type": "markdown",
   "metadata": {},
   "source": [
    "# Summary:\n",
    "\n",
    "We achieve a maximum Test Accuracy of **92.4%** with pre-loaded CIFAR weights. It's at the learning rate of 0.01. We observed the training for 30 epochs. The maximum accuracy is acieved after **9 epochs** as shown in the orange line in the above graph.\n",
    "\n",
    "Each epoch takes about 10.5 seconds on a Titan X GPU. The model is trained till saturation in training error. "
   ]
  },
  {
   "cell_type": "markdown",
   "metadata": {},
   "source": [
    "#### Training from scratch\n",
    "Now we shall try training the model from scratch and observe the differences."
   ]
  },
  {
   "cell_type": "code",
   "execution_count": 15,
   "metadata": {
    "scrolled": true
   },
   "outputs": [
    {
     "name": "stdout",
     "output_type": "stream",
     "text": [
      "Epoch # 0 Loss per batch:  1.19 Time in this epoch:  10.41\n",
      "Test\n",
      "Accuracy : 90.16042780748663\n",
      "Training\n",
      "Accuracy : 93.14109410229025\n",
      "Epoch # 1 Loss per batch:  0.24 Time in this epoch:  10.4\n",
      "Test\n",
      "Accuracy : 90.42780748663101\n",
      "Training\n",
      "Accuracy : 94.32182271270915\n",
      "Epoch # 2 Loss per batch:  0.2 Time in this epoch:  10.33\n",
      "Test\n",
      "Accuracy : 91.81818181818181\n",
      "Training\n",
      "Accuracy : 95.29488548712472\n",
      "Epoch # 3 Loss per batch:  0.17 Time in this epoch:  10.79\n",
      "Test\n",
      "Accuracy : 91.81818181818181\n",
      "Training\n",
      "Accuracy : 96.1314821407381\n",
      "Epoch # 4 Loss per batch:  0.14 Time in this epoch:  10.28\n",
      "Test\n",
      "Accuracy : 92.13903743315508\n",
      "Training\n",
      "Accuracy : 96.70701317194731\n",
      "Epoch # 5 Loss per batch:  0.12 Time in this epoch:  10.33\n",
      "Test\n",
      "Accuracy : 92.3529411764706\n",
      "Training\n",
      "Accuracy : 97.4249436335588\n",
      "Epoch # 6 Loss per batch:  0.11 Time in this epoch:  10.78\n",
      "Test\n",
      "Accuracy : 92.29946524064171\n",
      "Training\n",
      "Accuracy : 97.73347573276374\n",
      "Epoch # 7 Loss per batch:  0.09 Time in this epoch:  10.28\n",
      "Test\n",
      "Accuracy : 92.72727272727273\n",
      "Training\n",
      "Accuracy : 98.21407381037143\n",
      "Epoch # 8 Loss per batch:  0.08 Time in this epoch:  10.29\n",
      "Test\n",
      "Accuracy : 91.92513368983957\n",
      "Training\n",
      "Accuracy : 98.18440726237095\n",
      "Epoch # 9 Loss per batch:  0.07 Time in this epoch:  10.32\n",
      "Test\n",
      "Accuracy : 92.03208556149733\n",
      "Training\n",
      "Accuracy : 98.52853921917645\n",
      "Epoch # 10 Loss per batch:  0.06 Time in this epoch:  10.72\n",
      "Test\n",
      "Accuracy : 92.83422459893048\n",
      "Training\n",
      "Accuracy : 98.86080455678177\n",
      "Epoch # 11 Loss per batch:  0.06 Time in this epoch:  10.28\n",
      "Test\n",
      "Accuracy : 91.28342245989305\n",
      "Training\n",
      "Accuracy : 98.39800640797436\n",
      "Epoch # 12 Loss per batch:  0.05 Time in this epoch:  10.35\n",
      "Test\n",
      "Accuracy : 92.40641711229947\n",
      "Training\n",
      "Accuracy : 98.96167081998338\n",
      "Epoch # 13 Loss per batch:  0.05 Time in this epoch:  10.29\n",
      "Test\n",
      "Accuracy : 91.71122994652407\n",
      "Training\n",
      "Accuracy : 99.22273644238756\n",
      "Epoch # 14 Loss per batch:  0.04 Time in this epoch:  10.32\n",
      "Test\n",
      "Accuracy : 92.03208556149733\n",
      "Training\n",
      "Accuracy : 99.25833629998813\n",
      "Epoch # 15 Loss per batch:  0.04 Time in this epoch:  10.29\n",
      "Test\n",
      "Accuracy : 92.13903743315508\n",
      "Training\n",
      "Accuracy : 98.9438708911831\n",
      "Epoch # 16 Loss per batch:  0.05 Time in this epoch:  10.3\n",
      "Test\n",
      "Accuracy : 91.55080213903743\n",
      "Training\n",
      "Accuracy : 98.94980420078319\n",
      "Epoch # 17 Loss per batch:  0.04 Time in this epoch:  10.29\n",
      "Test\n",
      "Accuracy : 91.76470588235294\n",
      "Training\n",
      "Accuracy : 98.87860448558206\n",
      "Epoch # 18 Loss per batch:  0.04 Time in this epoch:  10.31\n",
      "Test\n",
      "Accuracy : 91.81818181818181\n",
      "Training\n",
      "Accuracy : 99.43040227839089\n",
      "Epoch # 19 Loss per batch:  0.03 Time in this epoch:  10.31\n",
      "Test\n",
      "Accuracy : 91.92513368983957\n",
      "Training\n",
      "Accuracy : 99.36513587278984\n",
      "Epoch # 20 Loss per batch:  0.03 Time in this epoch:  10.4\n",
      "Test\n",
      "Accuracy : 91.97860962566845\n",
      "Training\n",
      "Accuracy : 99.5253352319924\n",
      "Epoch # 21 Loss per batch:  0.03 Time in this epoch:  10.3\n",
      "Test\n",
      "Accuracy : 91.12299465240642\n",
      "Training\n",
      "Accuracy : 99.37106918238993\n",
      "Epoch # 22 Loss per batch:  0.02 Time in this epoch:  10.31\n",
      "Test\n",
      "Accuracy : 91.3903743315508\n",
      "Training\n",
      "Accuracy : 99.34140263438947\n",
      "Epoch # 23 Loss per batch:  0.03 Time in this epoch:  11.2\n",
      "Test\n",
      "Accuracy : 91.92513368983957\n",
      "Training\n",
      "Accuracy : 99.31173608638899\n",
      "Epoch # 24 Loss per batch:  0.03 Time in this epoch:  11.7\n",
      "Test\n",
      "Accuracy : 91.76470588235294\n",
      "Training\n",
      "Accuracy : 99.39480242079031\n",
      "Epoch # 25 Loss per batch:  0.03 Time in this epoch:  10.28\n",
      "Test\n",
      "Accuracy : 91.76470588235294\n",
      "Training\n",
      "Accuracy : 99.34140263438947\n",
      "Epoch # 26 Loss per batch:  0.02 Time in this epoch:  10.48\n",
      "Test\n",
      "Accuracy : 92.19251336898395\n",
      "Training\n",
      "Accuracy : 99.49566868399194\n",
      "Epoch # 27 Loss per batch:  0.03 Time in this epoch:  10.65\n",
      "Test\n",
      "Accuracy : 91.65775401069519\n",
      "Training\n",
      "Accuracy : 99.16340334638662\n",
      "Epoch # 28 Loss per batch:  0.04 Time in this epoch:  10.21\n",
      "Test\n",
      "Accuracy : 91.71122994652407\n",
      "Training\n",
      "Accuracy : 99.24053637118784\n",
      "Epoch # 29 Loss per batch:  0.03 Time in this epoch:  10.21\n",
      "Test\n",
      "Accuracy : 91.44385026737967\n",
      "Training\n",
      "Accuracy : 99.27020291918832\n",
      "Finished Training\n"
     ]
    }
   ],
   "source": [
    "# Reinstantiate the model and optimizer\n",
    "model = CustomResnet(num_classes = 10)\n",
    "optimizer = torch.optim.Adam(model.parameters(), lr = learning_rate)# Use Adam optimizer, use learning_rate hyper parameter\n",
    "if(torch.cuda.is_available()):\n",
    "    model.cuda()\n",
    "\n",
    "criterion = nn.CrossEntropyLoss()# Define cross-entropy loss\n",
    "\n",
    "# Train\n",
    "stats1 = train(30)\n",
    "\n"
   ]
  },
  {
   "cell_type": "code",
   "execution_count": 16,
   "metadata": {},
   "outputs": [
    {
     "name": "stdout",
     "output_type": "stream",
     "text": [
      "Plot for Epoch Loss\n"
     ]
    },
    {
     "data": {
      "image/png": "[encoded data removed]",
      "text/plain": [
       "<matplotlib.figure.Figure at 0x7fb84840d940>"
      ]
     },
     "metadata": {},
     "output_type": "display_data"
    },
    {
     "name": "stdout",
     "output_type": "stream",
     "text": [
      "Plot for training and testing accuracy\n"
     ]
    },
    {
     "data": {
      "image/png": "[encoded data removed]",
      "text/plain": [
       "<matplotlib.figure.Figure at 0x7fb848200978>"
      ]
     },
     "metadata": {},
     "output_type": "display_data"
    }
   ],
   "source": [
    "print('Plot for Epoch Loss')\n",
    "plt.plot(stats['epoch_loss'][1:]) #To ignore the abnormal improvement in 1s epoch for a clear graph.\n",
    "plt.show()\n",
    "print('Plot for training and testing accuracy')\n",
    "plt.plot(stats['trainacc'])\n",
    "plt.plot(stats['testacc'])\n",
    "plt.show()"
   ]
  },
  {
   "cell_type": "code",
   "execution_count": 18,
   "metadata": {},
   "outputs": [
    {
     "name": "stdout",
     "output_type": "stream",
     "text": [
      "0.9283422459893048\n"
     ]
    },
    {
     "data": {
      "text/plain": [
       "10"
      ]
     },
     "execution_count": 18,
     "metadata": {},
     "output_type": "execute_result"
    }
   ],
   "source": [
    "print(max(stats1['testacc']))\n",
    "np.argmax(stats1['testacc'])"
   ]
  },
  {
   "cell_type": "markdown",
   "metadata": {},
   "source": [
    "# Summary without CIFAR Weights\n",
    "\n",
    "We achieve an accuracy of **92.8%** with 10 epochs. We train till 30 epochs for model to reach saturation. Each epoch takes about 10.2 seconds on a Titan X GPU. \n",
    "\n",
    "# Observation:\n",
    "\n",
    "While CIFAR-100 weights provide a good initialization they hardly matter after training since the network can itself figure out, the most suitable set of weights. "
   ]
  },
  {
   "cell_type": "markdown",
   "metadata": {},
   "source": [
    "This is the end of Assignment 1"
   ]
  }
 ],
 "metadata": {
  "kernelspec": {
   "display_name": "Python 3",
   "language": "python",
   "name": "python3"
  },
  "language_info": {
   "codemirror_mode": {
    "name": "ipython",
    "version": 3
   },
   "file_extension": ".py",
   "mimetype": "text/x-python",
   "name": "python",
   "nbconvert_exporter": "python",
   "pygments_lexer": "ipython3",
   "version": "3.6.2"
  }
 },
 "nbformat": 4,
 "nbformat_minor": 2
}
