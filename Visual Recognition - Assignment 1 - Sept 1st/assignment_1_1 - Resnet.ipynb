{
 "cells": [
  {
   "cell_type": "markdown",
   "metadata": {},
   "source": [
    "## Creating Custom Datasets and Finetuning Pre-trained Networks\n",
    "In this notebook you have to create custom datasets for PyTorch and use this dataset to finetune certain pre-trained neural networks and observe the results."
   ]
  },
  {
   "cell_type": "code",
   "execution_count": 1,
   "metadata": {
    "collapsed": true
   },
   "outputs": [],
   "source": [
    "# Import Statements\n",
    "#\n",
    "# Several of the imports you will need have been added but you will need to provide the\n",
    "# rest yourself; you should be able to figure out most of the imports as you go through\n",
    "# the notebook since without proper imports your code will fail to run\n",
    "#\n",
    "# All import statements go in this block\n",
    "\n",
    "from __future__ import division, print_function, unicode_literals\n",
    "import numpy as np\n",
    "import torch\n",
    "import torch.utils.data\n",
    "import torchvision.models as models\n",
    "import torchvision.transforms as transforms\n",
    "import os\n",
    "%matplotlib inline\n",
    "import matplotlib.pyplot as plt\n",
    "import random\n",
    "from skimage import io, transform\n",
    "from torchvision import utils\n",
    "import torch.nn as nn\n",
    "import torch.optim as optim\n",
    "from torch.autograd import Variable\n",
    "from skimage.io import imread\n",
    "import time"
   ]
  },
  {
   "cell_type": "markdown",
   "metadata": {},
   "source": [
    "All hyper parameters go in the next block"
   ]
  },
  {
   "cell_type": "code",
   "execution_count": 15,
   "metadata": {
    "collapsed": true
   },
   "outputs": [],
   "source": [
    "batch_size = 10\n",
    "num_epochs = 15\n",
    "learning_rate = 0.01"
   ]
  },
  {
   "cell_type": "code",
   "execution_count": 3,
   "metadata": {
    "collapsed": true
   },
   "outputs": [],
   "source": [
    "torch.cuda.set_device(1) #Set as per device free"
   ]
  },
  {
   "cell_type": "markdown",
   "metadata": {},
   "source": [
    "### Creating Custom Datasets\n",
    "Your first task is to create a pipeline for the custom dataset so that you can load it using a dataloader. Download the dataset provided in the assignment webpage and complete the following block of code so that you can load it as if it was a standard dataset."
   ]
  },
  {
   "cell_type": "code",
   "execution_count": 4,
   "metadata": {
    "collapsed": true
   },
   "outputs": [],
   "source": [
    "class CDATA(torch.utils.data.Dataset): # Extend PyTorch's Dataset class\n",
    "    def __init__(self, root_dir, train, transform=None):\n",
    "        # root_dir  - the root directory of the dataset\n",
    "        # train     - a boolean parameter representing whether to return the training set or the test set\n",
    "        # transform - the transforms to be applied on the images before returning them\n",
    "        #\n",
    "        # In this function store the parameters in instance variables and make a mapping\n",
    "        # from images to labels and keep it as an instance variable. Make sure to check which\n",
    "        # dataset is required; train or test; and create the mapping accordingly.\n",
    "        self.root_dir = root_dir\n",
    "        self.transform = transform\n",
    "        self.train = train\n",
    "        \n",
    "        if(self.train):\n",
    "            data_dir = os.path.join(self.root_dir, 'train')\n",
    "        else:\n",
    "            data_dir = os.path.join(self.root_dir, 'test')\n",
    "#        self.mapping = {}\n",
    "        self.mlist = list()\n",
    "        \n",
    "        for root, dirs, files in os.walk(data_dir):\n",
    "            path = root.split(os.sep)\n",
    "            lab = os.path.basename(root)\n",
    "            for file in files:\n",
    "                self.mlist.append(file +'LAB'+ str(ord(lab) - ord('A')))\n",
    "#                if ord(lab) - ord('A') not in self.mapping.keys():\n",
    "#                    self.mapping[ord(lab) - ord('A')] = list()\n",
    "#                self.mapping[ord(lab) - ord('A')].append(file)\n",
    "\n",
    "    def __len__(self):\n",
    "        return len(self.mlist)\n",
    "        # return the size of the dataset (total number of images) as an integer\n",
    "        # this should be rather easy if you created a mapping in __init__\n",
    "        \n",
    "    def __getitem__(self, idx):\n",
    "        # idx - the index of the sample requested\n",
    "        #\n",
    "        # Open the image correspoding to idx, apply transforms on it and return a tuple (image, label)\n",
    "        # where label is an integer from 0-9 (since notMNIST has 10 classes)\n",
    "        name = self.mlist[idx]\n",
    "        file = name[:-4]\n",
    "        label = int(name[-1])\n",
    "        \n",
    "        if(self.train):\n",
    "            data_dir = os.path.join(self.root_dir, 'train')\n",
    "        else:\n",
    "            data_dir = os.path.join(self.root_dir, 'test')\n",
    "        \n",
    "        img_name = os.path.join(data_dir , chr(ord('A') + label), file)\n",
    "        image = io.imread(img_name,as_grey = False)\n",
    "        image = np.repeat(image[:, :,np.newaxis], 3, axis=2)\n",
    "        #image = image.reshape(image.shape[0],image.shape[1],1)\n",
    "        #print(image.shape)\n",
    "        \n",
    "        to_pil = transforms.ToPILImage()\n",
    "        image = to_pil(image)\n",
    "        \n",
    "        if self.transform:\n",
    "            image = self.transform(image)\n",
    "        return (image,label)"
   ]
  },
  {
   "cell_type": "markdown",
   "metadata": {},
   "source": [
    "We shall now load the dataset. You just need to supply the `root_dir` in the block below and if you implemented the above block correctly, it should work without any issues."
   ]
  },
  {
   "cell_type": "code",
   "execution_count": 5,
   "metadata": {},
   "outputs": [
    {
     "name": "stdout",
     "output_type": "stream",
     "text": [
      "Size of train dataset: 16854\n",
      "Size of test dataset: 1870\n",
      "Train images\n"
     ]
    },
    {
     "data": {
      "image/png": "[encoded data removed]",
      "text/plain": [
       "<matplotlib.figure.Figure at 0x7fef42c24a20>"
      ]
     },
     "metadata": {},
     "output_type": "display_data"
    }
   ],
   "source": [
    "composed_transform = transforms.Compose([transforms.Scale((224,224)),transforms.ToTensor()])\n",
    "train_dataset = CDATA(root_dir='./notMNIST_small/', train=True, transform=composed_transform) # Supply proper root_dir\n",
    "test_dataset = CDATA(root_dir='./notMNIST_small/', train=False, transform=composed_transform) # Supply proper root_dir\n",
    "\n",
    "# Let's check the size of the datasets, if implemented correctly they should be 16854 and 1870 respectively\n",
    "print('Size of train dataset: %d' % len(train_dataset))\n",
    "print('Size of test dataset: %d' % len(test_dataset))\n",
    "\n",
    "# Create loaders for the dataset\n",
    "train_loader = torch.utils.data.DataLoader(dataset=train_dataset, batch_size=batch_size, shuffle=True)\n",
    "test_loader = torch.utils.data.DataLoader(dataset=test_dataset, batch_size=batch_size, shuffle=False)\n",
    "\n",
    "# Let's look at one batch of train and test images\n",
    "def imshow(img):\n",
    "    npimg = img.numpy()\n",
    "    plt.imshow(np.transpose(npimg, (1, 2, 0)))\n",
    "    \n",
    "train_dataiter = iter(train_loader)\n",
    "\n",
    "train_images, train_labels = train_dataiter.next()\n",
    "print(\"Train images\")\n",
    "imshow(utils.make_grid(train_images))\n"
   ]
  },
  {
   "cell_type": "code",
   "execution_count": 6,
   "metadata": {},
   "outputs": [
    {
     "name": "stdout",
     "output_type": "stream",
     "text": [
      "Test images\n"
     ]
    },
    {
     "data": {
      "image/png": "[encoded data removed]",
      "text/plain": [
       "<matplotlib.figure.Figure at 0x7feec1174d30>"
      ]
     },
     "metadata": {},
     "output_type": "display_data"
    }
   ],
   "source": [
    "test_dataiter = iter(test_loader)\n",
    "test_images, test_labels = test_dataiter.next()\n",
    "print(\"Test images\")\n",
    "imshow(utils.make_grid(test_images))"
   ]
  },
  {
   "cell_type": "markdown",
   "metadata": {},
   "source": [
    "### VGG-16 and Resnet-18\n",
    "Now that you have created the dataset we can use it for training and testing neural networks. VGG-16 and Resnet-18 are both well-known deep-net architectures. VGG-16 is named as such since it has 16 layers in total (13 convolution and 3 fully-connected). Resnet-18 on the other hand is a Resnet architecture that uses skip-connections. PyTorch provides pre-trained models of both these architectures and we shall be using them directly. If you are interested in knowing how they have been defined do take a look at the source, [VGG](https://github.com/pytorch/vision/blob/master/torchvision/models/vgg.py), [Resnet](https://github.com/pytorch/vision/blob/master/torchvision/models/resnet.py)"
   ]
  },
  {
   "cell_type": "code",
   "execution_count": 7,
   "metadata": {
    "collapsed": true
   },
   "outputs": [],
   "source": [
    "resnet18 = models.resnet18(pretrained=True)\n",
    "\n",
    "# Code to change the last layers so that they only have 10 classes as output\n",
    "\n",
    "resnet18.fc = nn.Linear(resnet18.fc.in_features, 10)\n",
    "\n",
    "# Add code for using CUDA here if it is available\n",
    "if(torch.cuda.is_available()):\n",
    "    resnet18.cuda()"
   ]
  },
  {
   "cell_type": "markdown",
   "metadata": {},
   "source": [
    "Define loss functions and optimizers"
   ]
  },
  {
   "cell_type": "code",
   "execution_count": 8,
   "metadata": {
    "collapsed": true
   },
   "outputs": [],
   "source": [
    "criterion = nn.CrossEntropyLoss()# Define cross-entropy loss\n",
    "optimizer= optim.Adam(resnet18.parameters(), lr = learning_rate) # Use Adam optimizer, use learning_rate hyper parameter"
   ]
  },
  {
   "cell_type": "markdown",
   "metadata": {},
   "source": [
    "#### Finetuning\n",
    "Finetuning is nothing but training models after their weights have been loaded. This allows us to start at a better position than training from scratch. Since the models created already have weights loaded, you simply need to write a training loop."
   ]
  },
  {
   "cell_type": "code",
   "execution_count": 12,
   "metadata": {
    "collapsed": true
   },
   "outputs": [],
   "source": [
    "def train(model,num_epochs):\n",
    "    stats = {'epoch_loss':list(),'trainacc':list(),'testacc':list()}\n",
    "    \n",
    "    for epoch in range(num_epochs):\n",
    "        start = time.time()\n",
    "        running_loss = 0\n",
    "        for i, data in enumerate(train_loader):\n",
    "            inputs, labels = data\n",
    "            if(torch.cuda.is_available()):\n",
    "                inputs, labels = Variable(inputs.cuda()), Variable(labels.cuda())\n",
    "            else:\n",
    "                inputs, labels = Variable(inputs), Variable(labels)\n",
    "           \n",
    "            optimizer.zero_grad()\n",
    "            outputs = model(inputs)\n",
    "            loss = criterion(outputs, labels)\n",
    "            loss.backward()\n",
    "            optimizer.step()\n",
    "            running_loss += loss.data[0]\n",
    "\n",
    "        end = time.time()\n",
    "       \n",
    "        print('Epoch #',epoch,'Loss per batch: ',round(running_loss/len(train_loader),2),'Time in this epoch: ',round(end-start,2))\n",
    "        \n",
    "        stats['epoch_loss'].append(round(running_loss/len(train_loader),2))\n",
    "        \n",
    "        start = time.time()\n",
    "        \n",
    "        print('Test')\n",
    "        stats['testacc'].append(test(model, False))\n",
    "        \n",
    "       # print('Training')\n",
    "       # stats['trainacc'].append(test(model, True))   <-- Too time taking ON cpu for this model\n",
    "    \n",
    "    print('Finished Training')\n",
    "    return stats\n",
    "\n",
    "def test(model,training):\n",
    "    # Write loops for testing the model on the test set\n",
    "    # You should also print out the accuracy of the model\n",
    "    tot = right = 0\n",
    "    if(training == False):\n",
    "        x = test_loader\n",
    "    else:\n",
    "        x = train_loader\n",
    "    for data in x:\n",
    "        images, labels = data\n",
    "        images, labels = images.cuda(),labels.cuda()\n",
    "        images, labels = Variable(images, volatile = True), Variable(labels)\n",
    "        outputs = model(images)\n",
    "        q , predicted = torch.max(outputs.data, 1)\n",
    "\n",
    "        predicted = predicted.cpu()\n",
    "        labels = labels.data.cpu()\n",
    "        right += (predicted == labels).sum()\n",
    "        tot += labels.size(0)\n",
    "    print('Accuracy :', 100*right/tot)\n",
    "    return right/tot"
   ]
  },
  {
   "cell_type": "markdown",
   "metadata": {},
   "source": [
    "Now let us start the training/finetuning"
   ]
  },
  {
   "cell_type": "code",
   "execution_count": 16,
   "metadata": {
    "scrolled": true
   },
   "outputs": [
    {
     "name": "stdout",
     "output_type": "stream",
     "text": [
      "Epoch # 0 Loss per batch:  0.18 Time in this epoch:  82.69\n",
      "Test\n",
      "Accuracy : 72.94117647058823\n",
      "Epoch # 1 Loss per batch:  0.15 Time in this epoch:  83.29\n",
      "Test\n",
      "Accuracy : 79.35828877005348\n",
      "Epoch # 2 Loss per batch:  0.13 Time in this epoch:  82.67\n",
      "Test\n",
      "Accuracy : 80.53475935828877\n",
      "Epoch # 3 Loss per batch:  0.12 Time in this epoch:  82.63\n",
      "Test\n",
      "Accuracy : 80.80213903743315\n",
      "Epoch # 4 Loss per batch:  0.09 Time in this epoch:  81.87\n",
      "Test\n",
      "Accuracy : 81.76470588235294\n",
      "Epoch # 5 Loss per batch:  0.08 Time in this epoch:  82.48\n",
      "Test\n",
      "Accuracy : 83.63636363636364\n",
      "Epoch # 6 Loss per batch:  0.07 Time in this epoch:  82.4\n",
      "Test\n",
      "Accuracy : 84.59893048128342\n",
      "Epoch # 7 Loss per batch:  0.06 Time in this epoch:  82.5\n",
      "Test\n",
      "Accuracy : 85.56149732620321\n",
      "Epoch # 8 Loss per batch:  0.05 Time in this epoch:  82.41\n",
      "Test\n",
      "Accuracy : 84.43850267379679\n",
      "Epoch # 9 Loss per batch:  0.05 Time in this epoch:  82.28\n",
      "Test\n",
      "Accuracy : 84.91978609625669\n",
      "Epoch # 10 Loss per batch:  0.04 Time in this epoch:  82.32\n",
      "Test\n",
      "Accuracy : 85.24064171122994\n",
      "Epoch # 11 Loss per batch:  0.04 Time in this epoch:  82.31\n",
      "Test\n",
      "Accuracy : 84.49197860962566\n",
      "Epoch # 12 Loss per batch:  0.04 Time in this epoch:  81.95\n",
      "Test\n",
      "Accuracy : 85.29411764705883\n",
      "Epoch # 13 Loss per batch:  0.04 Time in this epoch:  81.99\n",
      "Test\n",
      "Accuracy : 85.98930481283422\n",
      "Epoch # 14 Loss per batch:  0.03 Time in this epoch:  81.97\n",
      "Test\n",
      "Accuracy : 85.24064171122994\n",
      "Finished Training\n"
     ]
    }
   ],
   "source": [
    "#%time train_vgg16(num_epochs,optimizer_vgg16)\n",
    "stats = train(resnet18,num_epochs)"
   ]
  },
  {
   "cell_type": "markdown",
   "metadata": {},
   "source": [
    "#### Testing\n",
    "Once finetuning is done we need to test it on the test set."
   ]
  },
  {
   "cell_type": "markdown",
   "metadata": {},
   "source": [
    "Test the models -< The testing is done after every epoch to maintain the stats which is returned as list in stats dictionary."
   ]
  },
  {
   "cell_type": "code",
   "execution_count": 17,
   "metadata": {},
   "outputs": [
    {
     "name": "stdout",
     "output_type": "stream",
     "text": [
      "Plot for Epoch Loss\n"
     ]
    },
    {
     "data": {
      "image/png": "[encoded data removed]",
      "text/plain": [
       "<matplotlib.figure.Figure at 0x7feeb80d2e48>"
      ]
     },
     "metadata": {},
     "output_type": "display_data"
    },
    {
     "name": "stdout",
     "output_type": "stream",
     "text": [
      "Plot for training and testing accuracy\n"
     ]
    },
    {
     "data": {
      "image/png": "[encoded data removed]",
      "text/plain": [
       "<matplotlib.figure.Figure at 0x7feeb80da208>"
      ]
     },
     "metadata": {},
     "output_type": "display_data"
    }
   ],
   "source": [
    "print('Plot for Epoch Loss')\n",
    "plt.plot(stats['epoch_loss'][1:]) #To ignore the abnormal improvement in 1s epoch for a clear graph.\n",
    "plt.show()\n",
    "print('Plot for training and testing accuracy')\n",
    "plt.plot(stats['trainacc'])\n",
    "plt.plot(stats['testacc'])\n",
    "plt.show()"
   ]
  },
  {
   "cell_type": "markdown",
   "metadata": {},
   "source": [
    "You can add more code to save the models if you want but otherwise this notebook is complete"
   ]
  },
  {
   "cell_type": "code",
   "execution_count": 19,
   "metadata": {},
   "outputs": [
    {
     "name": "stdout",
     "output_type": "stream",
     "text": [
      "0.8598930481283422\n"
     ]
    },
    {
     "data": {
      "text/plain": [
       "13"
      ]
     },
     "execution_count": 19,
     "metadata": {},
     "output_type": "execute_result"
    }
   ],
   "source": [
    "print(max(stats['testacc']))\n",
    "np.argmax(stats['testacc'])"
   ]
  },
  {
   "cell_type": "markdown",
   "metadata": {
    "collapsed": true
   },
   "source": [
    "# Summary\n",
    "So, after **10 iterations** we reach a maximum accuracy of **~86%%** at learning rate **0.01** and a batch size of **10**.The model is trained till the error saturates. Each epoch takes around **83 seconds** on Titan X GPU.   "
   ]
  },
  {
   "cell_type": "code",
   "execution_count": null,
   "metadata": {
    "collapsed": true
   },
   "outputs": [],
   "source": []
  }
 ],
 "metadata": {
  "kernelspec": {
   "display_name": "Python 3",
   "language": "python",
   "name": "python3"
  },
  "language_info": {
   "codemirror_mode": {
    "name": "ipython",
    "version": 3
   },
   "file_extension": ".py",
   "mimetype": "text/x-python",
   "name": "python",
   "nbconvert_exporter": "python",
   "pygments_lexer": "ipython3",
   "version": "3.6.2"
  }
 },
 "nbformat": 4,
 "nbformat_minor": 2
}
